{
 "cells": [
  {
   "cell_type": "markdown",
   "metadata": {},
   "source": [
    "# Exercício 4\n",
    "\n",
    "Fernanda Soares dos Reis RA: 81721367"
   ]
  },
  {
   "cell_type": "markdown",
   "metadata": {},
   "source": [
    "1 Menor de dois pares: Escreva uma função que retorne o menor de dois números\n",
    "dados se ambos os números forem pares, mas retorna o maior se um dos dois for\n",
    "ímpar. \n",
    "\n",
    "Exemplo:\n",
    "\n",
    "menor_de_dois_pares(2,4) --> 2\n",
    "\n",
    "menor_de_dois_pares (2,5) --> 5"
   ]
  },
  {
   "cell_type": "code",
   "execution_count": null,
   "metadata": {},
   "outputs": [],
   "source": [
    "def menor_de_dois_pares(num1, num2):\n",
    "  if num1 % 2 == 0 and num2 % 2 == 0:\n",
    "    if num1 < num2:\n",
    "      return num1\n",
    "    else: return num2\n",
    "  else:\n",
    "    if num1 > num2:\n",
    "      return num1\n",
    "    else: return num2\n",
    "\n",
    "print(menor_de_dois_pares(2,4))\n",
    "print(menor_de_dois_pares(2,5))"
   ]
  },
  {
   "cell_type": "markdown",
   "metadata": {},
   "source": [
    "2 Mesma letra: Escreva uma função que receba uma string com duas palavras e\n",
    "retorne True se ambas palavras começarem com a mesma letra. \n",
    "\n",
    "Exemplo:\n",
    "\n",
    "mesma_letra('Cão covarde') -> True\n",
    "\n",
    "mesma_letra('Vira Lata') -> False"
   ]
  },
  {
   "cell_type": "code",
   "execution_count": null,
   "metadata": {},
   "outputs": [],
   "source": [
    "def mesma_letra(palavra):\n",
    "  palavras = palavra.split()\n",
    "  p1 = palavras[0]\n",
    "  p2 = palavras[1]\n",
    "\n",
    "  if p1[0] == p2[0]:\n",
    "    return True\n",
    "  else: return False\n",
    "\n",
    "print(mesma_letra('cão covarde'))\n",
    "print(mesma_letra('vira lata'))"
   ]
  },
  {
   "cell_type": "markdown",
   "metadata": {},
   "source": [
    "3 Mestre Yoda: Dada uma sentença, a função deve retornar a sentença com as\n",
    "palavras na ordem reversa. \n",
    "\n",
    "Exemplo:\n",
    "\n",
    "mestre_yoda('Eu estou em casa') --> 'casa em estou Eu'\n",
    "\n",
    "mestre_yoda('Estamos prontos') --> 'prontos Estamos'"
   ]
  },
  {
   "cell_type": "code",
   "execution_count": null,
   "metadata": {},
   "outputs": [],
   "source": [
    "def mestre_yoda(frase):\n",
    "  palavras = frase.split()\n",
    "  i = len(palavras) - 1\n",
    "  resp = ''\n",
    "\n",
    "  while i >= 0:\n",
    "    resp += palavras[i] + \" \"\n",
    "    i -= 1\n",
    "\n",
    "  return resp\n",
    "\n",
    "print(mestre_yoda('eu estou em casa'))\n",
    "print(mestre_yoda('estamos prontos'))"
   ]
  },
  {
   "cell_type": "markdown",
   "metadata": {},
   "source": [
    "4 Tem 33: Faça uma função que retorne True se, dada uma lista de inteiros, houver\n",
    "em alguma posição da lista um 3 do lado de outro 3. \n",
    "\n",
    "Exemplo:\n",
    "\n",
    "tem_33([1,3,3]) --> True\n",
    "\n",
    "tem_33([1,3,1,3]) --> False\n",
    "\n",
    "tem_33([3,1,3]) --> False"
   ]
  },
  {
   "cell_type": "code",
   "execution_count": null,
   "metadata": {},
   "outputs": [],
   "source": [
    "lista1 = [1,3,3]\n",
    "lista2 = [1,3,1,3]\n",
    "lista3 = [3,1,3]\n",
    "\n",
    "\n",
    "def tem_33(lista):\n",
    "  for i in range(0, len(lista)-1):\n",
    "    if lista[i] == lista[i+1]:\n",
    "      return True\n",
    "      break\n",
    "  \n",
    "  return False\n",
    "\n",
    "print(tem_33(lista1))\n",
    "print(tem_33(lista2))\n",
    "print(tem_33(lista3))"
   ]
  },
  {
   "cell_type": "markdown",
   "metadata": {},
   "source": [
    "5 Blackjack: Faça uma função que receba 3 inteiros entre 1 e 11. Se a soma deles for\n",
    "menor que 21, retorne o valor da soma. Se for mair do que 21 e houver um 11,\n",
    "subtraia 10 da soma antes de apresentar o resultado. Se o valor da soma passar de\n",
    "21, retorne ‘ESTOUROU’. \n",
    "\n",
    "Exemplo:\n",
    "\n",
    "blackjack(5,6,7) --> 18\n",
    "\n",
    "blackjack(9,9,9) --> 'ESTOUROU'\n",
    "\n",
    "blackjack(9,9,11) --> 19"
   ]
  },
  {
   "cell_type": "code",
   "execution_count": null,
   "metadata": {},
   "outputs": [],
   "source": [
    "def blackjack(n1, n2, n3):\n",
    "  if n1 >= 1 and n2 >= 1 and n2 >= 1:\n",
    "    if n2 <= 11 and n2 <= 11 and n3 <= 11:\n",
    "      soma = n1 + n2 + n3\n",
    "      \n",
    "      if soma < 21:\n",
    "        return soma\n",
    "      \n",
    "      elif soma > 21:\n",
    "        if n1 == 11 or n2 == 11 or n3 == 11:\n",
    "          return soma - 10  \n",
    "        else: return 'ESTOUROU'\n",
    "\n",
    "    return \"Números inválidos\"\n",
    "  return \"Números inválidos\"\n",
    "\n",
    "print(blackjack(5,6,7))\n",
    "print(blackjack(9,9,9))\n",
    "print(blackjack(9,9,11))"
   ]
  },
  {
   "cell_type": "markdown",
   "metadata": {},
   "source": [
    "6 Espião: Escreva uma função que receba uma lista de\n",
    "inteiros e retorne True se contém um 007 em ordem, mesmo\n",
    "que não contínuo. \n",
    "\n",
    "Exemplo:\n",
    "\n",
    "espiao([1,2,4,0,0,7,5]) --> True\n",
    "\n",
    "espiao([1,0,2,4,0,5,7]) --> True\n",
    "\n",
    "espiao([1,7,2,4,0,5,0]) --> False"
   ]
  },
  {
   "cell_type": "code",
   "execution_count": null,
   "metadata": {},
   "outputs": [],
   "source": [
    "def espiao(lista):\n",
    "  for i in range(0, len(lista)-2):\n",
    "    if lista[i] == 0:\n",
    "      for a in range(i + 1, len(lista)-1):\n",
    "        if lista[a] == 0:\n",
    "          for b in range(a + 1, len(lista)):\n",
    "            if lista[b] == 7:\n",
    "              return True\n",
    "              break\n",
    "  return False\n",
    "\n",
    "print(espiao([1,2,4,0,0,7,5])) \n",
    "print(espiao([1,0,2,4,0,5,7]))\n",
    "print(espiao([1,7,2,4,0,5,0])) "
   ]
  }
 ],
 "metadata": {
  "kernelspec": {
   "display_name": "Python 3",
   "language": "python",
   "name": "python3"
  },
  "language_info": {
   "codemirror_mode": {
    "name": "ipython",
    "version": 3
   },
   "file_extension": ".py",
   "mimetype": "text/x-python",
   "name": "python",
   "nbconvert_exporter": "python",
   "pygments_lexer": "ipython3",
   "version": "3.6.10"
  }
 },
 "nbformat": 4,
 "nbformat_minor": 4
}
