{
 "cells": [
  {
   "cell_type": "markdown",
   "metadata": {},
   "source": [
    "# Exercício 10\n",
    "\n",
    "Fernanda Soares dos Reis\n",
    "\n",
    "RA: 81721367"
   ]
  },
  {
   "cell_type": "code",
   "execution_count": 1,
   "metadata": {},
   "outputs": [],
   "source": [
    "def maybe(fnc):\n",
    "    def inner(*args):\n",
    "        for a in args:\n",
    "            if isinstance(a, Exception):\n",
    "                return a\n",
    "        try:\n",
    "            return fnc(*args)\n",
    "        except Exception as e:\n",
    "            return e\n",
    "    return inner"
   ]
  },
  {
   "cell_type": "markdown",
   "metadata": {},
   "source": [
    "1 Faça um programa que leia 5 números e informe o maior número."
   ]
  },
  {
   "cell_type": "code",
   "execution_count": null,
   "metadata": {},
   "outputs": [],
   "source": [
    "lista = []\n",
    "\n",
    "maxnum = maybe(lambda x: max(x))\n",
    "\n",
    "for i in range (0,5):\n",
    "  num = int(input('Digite um número: '))\n",
    "  lista.append(num)\n",
    "  \n",
    "\n",
    "print(maxnum(lista))"
   ]
  },
  {
   "cell_type": "markdown",
   "metadata": {},
   "source": [
    "2 Faça um programa que leia 5 números e informe a soma e a média dos números"
   ]
  },
  {
   "cell_type": "code",
   "execution_count": null,
   "metadata": {},
   "outputs": [],
   "source": [
    "lista = []\n",
    "soma = 0\n",
    "\n",
    "for i in range (0,5):\n",
    "  num = int(input('Digite um número: '))\n",
    "  lista.append(num)\n",
    "\n",
    "for n in lista:\n",
    "  soma += n\n",
    "\n",
    "print(f'Soma: {soma} \\nMédia: {soma/len(lista)}')"
   ]
  },
  {
   "cell_type": "markdown",
   "metadata": {},
   "source": [
    "3 Faça um programa que imprima na tela apenas os números ímpares entre 1 e 50."
   ]
  },
  {
   "cell_type": "code",
   "execution_count": null,
   "metadata": {},
   "outputs": [],
   "source": [
    "func = maybe(lambda num : num % 2 != 0)\n",
    "\n",
    "filtro = filter(func, range(0,50))\n",
    "\n",
    "for n in filtro:\n",
    "  print(n)"
   ]
  },
  {
   "cell_type": "markdown",
   "metadata": {},
   "source": [
    "4 Desenvolva um gerador de tabuada, capaz de gerar a tabuada de qualquer número\n",
    "inteiro entre 1 a 10. O usuário deve informar de qual numero ele deseja ver a\n",
    "tabuada. A saída deve ser conforme o exemplo abaixo:\n",
    "\n",
    "Tabuada de 5:\n",
    "\n",
    "5 X 1 = 5\n",
    "\n",
    "5 X 2 = 10\n",
    "\n",
    "...\n",
    "\n",
    "5 X 10 = 50"
   ]
  },
  {
   "cell_type": "code",
   "execution_count": null,
   "metadata": {},
   "outputs": [],
   "source": [
    "tabuada = maybe(lambda x: print(str(num) + \" X \" + str(x) + \" = \" + str(num*x)))\n",
    "\n",
    "num = int(input('Digite um número inteiro de 1 a 10: '))\n",
    "\n",
    "list(map(tabuada, range(1,11)))"
   ]
  },
  {
   "cell_type": "markdown",
   "metadata": {},
   "source": [
    "5 Faça um programa que calcule o fatorial de um número inteiro fornecido pelo\n",
    "usuário. Ex.: 5!=5.4.3.2.1=120"
   ]
  },
  {
   "cell_type": "code",
   "execution_count": null,
   "metadata": {},
   "outputs": [],
   "source": [
    "num = int(input('Digite um número: '))\n",
    "\n",
    "for i in range(1, num):\n",
    "    num = num*i\n",
    "print(num)"
   ]
  },
  {
   "cell_type": "markdown",
   "metadata": {},
   "source": [
    "6 Faça um programa que receba o valor de uma dívida e mostre uma tabela com os\n",
    "seguintes dados: valor da dívida, valor dos juros, quantidade de parcelas e valor da\n",
    "parcela.\n",
    "\n",
    "Os juros e a quantidade de parcelas seguem a tabela abaixo:\n",
    "\n",
    "Quantidade de Parcelas % de Juros sobre o valor inicial da dívida\n",
    "\n",
    "1 0\n",
    "\n",
    "3 10\n",
    "\n",
    "6 15\n",
    "\n",
    "9 20\n",
    "\n",
    "12 25\n",
    "\n",
    "Exemplo de saída do programa:\n",
    "\n",
    "Valor da Dívida Valor dos Juros Quantidade de Parcelas Valor da Parcela\n",
    "\n",
    " 1.000,00 0 1  1.000,00\n",
    "\n",
    " 1.100,00 100 3  366,00\n",
    "\n",
    " 1.150,00 150 6  191,67\n"
   ]
  },
  {
   "cell_type": "code",
   "execution_count": null,
   "metadata": {},
   "outputs": [],
   "source": [
    "dic = [\n",
    "    {\"parcelas\": 1, \"juros\": 0},\n",
    "    {\"parcelas\": 3, \"juros\": 0.1},\n",
    "    {\"parcelas\": 6, \"juros\": 0.15},\n",
    "    {\"parcelas\": 9, \"juros\": 0.2},\n",
    "    {\"parcelas\": 12, \"juros\": 0.25}\n",
    "]\n",
    "\n",
    "divida = float(input('Digite o valor da dívida: ')) \n",
    "\n",
    "print(\"Valor da Dívida | Valor dos Juros | Quantidade de Parcelas | Valor da Parcela\")\n",
    "\n",
    "\n",
    "tabela = maybe(lambda dic: print(\"R$ {:.2f} | R$ {:.2f} | {:d} | R$ {:.2f}\".format((divida * dic[\"juros\"] + divida), divida * dic[\"juros\"], dic[\"parcelas\"], (divida * dic[\"juros\"] + divida)/dic[\"parcelas\"])))\n",
    "list(map(tabela, dic))"
   ]
  },
  {
   "cell_type": "markdown",
   "metadata": {},
   "source": [
    "7 Faça um programa que mostre os n termos da Série a seguir:\n",
    "\n",
    " S = 1/1 + 2/3 + 3/5 + 4/7 + 5/9 + ... + n/m.\n",
    "\n",
    "Imprima no final a soma da série."
   ]
  },
  {
   "cell_type": "code",
   "execution_count": null,
   "metadata": {},
   "outputs": [],
   "source": [
    "n = int(input('Digite a quantidade de termos: '))\n",
    "S = ''\n",
    "b = 1\n",
    "soma = 1/1\n",
    "\n",
    "\n",
    "for a in range(1,n):\n",
    "  S += str(a) + '/' + str(b)\n",
    "\n",
    "  a += 1\n",
    "  b += 2\n",
    "  soma += a/b\n",
    "\n",
    "  if a != n:\n",
    "    S += ' + '\n",
    "\n",
    "print(S + f'\\nSoma: {soma}')"
   ]
  },
  {
   "cell_type": "markdown",
   "metadata": {},
   "source": [
    "8 Mesma letra: Escreva uma função que receba uma string com duas palavras e\n",
    "retorne True se ambas palavras começarem com a mesma letra. Exemplo:\n",
    "\n",
    "mesma_letra('Cão covarde') -> True\n",
    "\n",
    "mesma_letra('Vira Lata') -> False"
   ]
  },
  {
   "cell_type": "code",
   "execution_count": null,
   "metadata": {},
   "outputs": [],
   "source": [
    "def mesma_letra(palavra):\n",
    "  palavras = palavra.split()\n",
    "  return palavras[0][0] == palavras[1][0]\n",
    "    \n",
    "mletra = maybe(mesma_letra)"
   ]
  },
  {
   "cell_type": "markdown",
   "metadata": {},
   "source": [
    "9 Mestre Yoda: Dada uma sentença, a função deve retornar a sentença com as\n",
    "palavras na ordem reversa. Exemplo:\n",
    "\n",
    "mestre_yoda('Eu estou em casa') --> 'casa em estou Eu'\n",
    "\n",
    "mestre_yoda('Estamos prontos') --> 'prontos Estamos'"
   ]
  },
  {
   "cell_type": "code",
   "execution_count": 8,
   "metadata": {},
   "outputs": [],
   "source": [
    "def mestre_yoda(frase):\n",
    "  palavras = frase.split()\n",
    "  i = len(palavras) - 1\n",
    "  resp = ''\n",
    "\n",
    "  while i >= 0:\n",
    "    resp += palavras[i] + \" \"\n",
    "    i -= 1\n",
    "\n",
    "  return resp\n",
    "\n",
    "yoda = maybe(mestre_yoda)"
   ]
  },
  {
   "cell_type": "markdown",
   "metadata": {},
   "source": [
    "10 Espião: Escreva uma função que receba uma lista de\n",
    "inteiros e retorne True se contém um 007 em ordem, mesmo\n",
    "que não contínuo. Exemplo:\n",
    "\n",
    "espiao([1,2,4,0,0,7,5]) --> True\n",
    "\n",
    "espiao([1,0,2,4,0,5,7]) --> True\n",
    "\n",
    "espiao([1,7,2,4,0,5,0]) --> False\n"
   ]
  },
  {
   "cell_type": "code",
   "execution_count": null,
   "metadata": {},
   "outputs": [],
   "source": [
    "def espiao(lista):\n",
    "  for i in range(0, len(lista)-2):\n",
    "    if lista[i] == 0:\n",
    "      for a in range(i + 1, len(lista)-1):\n",
    "        if lista[a] == 0:\n",
    "          for b in range(a + 1, len(lista)):\n",
    "            if lista[b] == 7:\n",
    "              return True\n",
    "              break\n",
    "  return False\n",
    "\n",
    "espy = maybe(espiao)"
   ]
  }
 ],
 "metadata": {
  "kernelspec": {
   "display_name": "Python 3",
   "language": "python",
   "name": "python3"
  },
  "language_info": {
   "codemirror_mode": {
    "name": "ipython",
    "version": 3
   },
   "file_extension": ".py",
   "mimetype": "text/x-python",
   "name": "python",
   "nbconvert_exporter": "python",
   "pygments_lexer": "ipython3",
   "version": "3.6.10"
  }
 },
 "nbformat": 4,
 "nbformat_minor": 4
}
