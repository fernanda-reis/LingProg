{
 "cells": [
  {
   "cell_type": "markdown",
   "metadata": {},
   "source": [
    "1 Faça um Programa que peça o raio de um círculo, calcule e mostre sua área."
   ]
  },
  {
   "cell_type": "code",
   "execution_count": null,
   "metadata": {},
   "outputs": [],
   "source": [
    "raio = int(input('Digite o raio: '))\n",
    "pi = 3.14\n",
    "area = pi * (raio**2)\n",
    "print('A area do circulo é' , area)"
   ]
  },
  {
   "cell_type": "markdown",
   "metadata": {},
   "source": [
    "2 Faça um Programa que calcule a área de um quadrado, em seguida mostre o dobro desta área para o usuário."
   ]
  },
  {
   "cell_type": "code",
   "execution_count": 3,
   "metadata": {},
   "outputs": [
    {
     "name": "stdout",
     "output_type": "stream",
     "text": [
      "O dobro da area é 50\n"
     ]
    }
   ],
   "source": [
    "lado = 5\n",
    "area = lado * lado\n",
    "print('O dobro da area é' , area*2)"
   ]
  },
  {
   "cell_type": "markdown",
   "metadata": {},
   "source": [
    "3 Faça um Programa que pergunte quanto você ganha por hora e o número de horas trabalhadas no mês. Calcule e mostre o total do seu salário no referido mês."
   ]
  },
  {
   "cell_type": "code",
   "execution_count": null,
   "metadata": {},
   "outputs": [],
   "source": [
    "salario = float(input(\"Digite o ganho por hora: \"))\n",
    "horas = float(input(\"Digite as horas trabalhadas no mês: \"))\n",
    "salario_total = salario * horas\n",
    "print('Este mês você ganhou R$' , salario_total)"
   ]
  },
  {
   "cell_type": "markdown",
   "metadata": {},
   "source": [
    "4 Faça um Programa que peça a temperatura em graus Farenheit, transforme e mostre a temperatura em graus Celsius. C = (5 * (F-32) / 9)."
   ]
  },
  {
   "cell_type": "code",
   "execution_count": null,
   "metadata": {},
   "outputs": [],
   "source": [
    "f = int(input('Digite a temperatura em Farenheit: '))\n",
    "c = int((5*(f-32)/9))\n",
    "print(c , 'graus Celsius')"
   ]
  },
  {
   "cell_type": "markdown",
   "metadata": {},
   "source": [
    "5 Faça um Programa que peça a temperatura em graus Celsius, transforme e mostre em graus Farenheit."
   ]
  },
  {
   "cell_type": "code",
   "execution_count": null,
   "metadata": {},
   "outputs": [],
   "source": [
    "c = int(input('Digite a temperatura em Celsius: '))\n",
    "f = int((((c/5)*9)+32))\n",
    "print(f , 'graus Farenheit')"
   ]
  },
  {
   "cell_type": "markdown",
   "metadata": {},
   "source": [
    "6 Faça um Programa que peça 2 números inteiros e um número real. Calcule e mostre:\n",
    "    \n",
    " -o produto do dobro do primeiro com metade do segundo.\n",
    " \n",
    " -a soma do triplo do primeiro com o terceiro.\n",
    " \n",
    " -o terceiro elevado ao cubo."
   ]
  },
  {
   "cell_type": "code",
   "execution_count": null,
   "metadata": {},
   "outputs": [],
   "source": [
    "int1 = int(input(\"Digite o primeiro numero inteiro: \"))\n",
    "int2 = int(input(\"Digite o segundo numero inteiro: \"))\n",
    "real = float(input(\"Digite um numero real: \"))\n",
    "\n",
    "n1 = ((int1 * 2) * (int2 / 2))\n",
    "print('Produto do dobro do primeiro com metade do segundo:' , n1)\n",
    "\n",
    "n2 = ((int1 * 3) + real)\n",
    "print('Soma do triplo do primeiro com o terceiro:' , n2)\n",
    "\n",
    "n3 = (real ** 3)\n",
    "print('Terceiro elevado ao cubo:', n3)"
   ]
  },
  {
   "cell_type": "markdown",
   "metadata": {},
   "source": [
    "7 João Papo-de-Pescador, homem de bem, comprou um microcomputador para\n",
    "controlar o rendimento diário de seu trabalho. Toda vez que ele traz um peso de\n",
    "peixes maior que o estabelecido pelo regulamento de pesca do estado de São Paulo\n",
    "(50 quilos) deve pagar uma multa de R$ 4,00 por quilo excedente. João precisa que\n",
    "você faça um programa que leia a variável peso (peso de peixes) e verifique se há \n",
    "excesso. Se houver, gravar na variável excesso e na variável multa o valor da multa\n",
    "que João deverá pagar. Caso contrário mostrar tais variáveis com o conteúdo ZERO."
   ]
  },
  {
   "cell_type": "code",
   "execution_count": null,
   "metadata": {},
   "outputs": [],
   "source": [
    "peso = float(input(\"Digite o peso: \"))\n",
    "x = 50\n",
    "excesso = 'ZERO'\n",
    "multa = 'ZERO'\n",
    "\n",
    "if peso > x:\n",
    "    excesso = (peso - x)\n",
    "    multa = int(4 * excesso)\n",
    "    \n",
    "print('Peso:' , peso , '\\nExcesso:' , excesso , '\\nMulta:' , multa)"
   ]
  },
  {
   "cell_type": "markdown",
   "metadata": {},
   "source": [
    "8 Faça um Programa que pergunte quanto você ganha por hora e o número de horas\n",
    "trabalhadas no mês. Calcule e mostre o total do seu salário no referido mês,\n",
    "sabendo-se que são descontados 11% para o Imposto de Renda, 8% para o INSS e 5%\n",
    "para o sindicato, faça um programa que nos dê:\n",
    "\n",
    "-salário bruto.\n",
    "\n",
    "-quanto pagou ao INSS.\n",
    "\n",
    "-quanto pagou ao sindicato.\n",
    "\n",
    "-o salário líquido.\n",
    "\n",
    "-calcule os descontos e o salário líquido, conforme a tabela abaixo:\n",
    "\n",
    " +Salário Bruto\n",
    " -IR (11%)\n",
    " -INSS (8%)\n",
    " -Sindicato ( 5%)\n",
    " =Salário Liquido\n",
    " \n",
    "Obs.: Salário Bruto - Descontos = Salário Líquido."
   ]
  },
  {
   "cell_type": "code",
   "execution_count": null,
   "metadata": {},
   "outputs": [],
   "source": [
    "salario = float(input(\"Digite o ganho por hora: \"))\n",
    "horas = float(input(\"Digite as horas trabalhadas no mês: \"))\n",
    "salario_bruto = salario * horas\n",
    "\n",
    "ir = salario_bruto * 0.11\n",
    "inss = salario_bruto * 0.08\n",
    "sindicato = salario_bruto * 0.05\n",
    "\n",
    "salario_liquido = salario_bruto-ir-inss-sindicato\n",
    "\n",
    "print('Salario bruto: R$',salario_bruto,\n",
    "      '\\nDesconto IR: R$',ir,\n",
    "      '\\nDesconto INSS: R$',inss,\n",
    "      '\\nDesconto sindicato: R$',sindicato,\n",
    "      '\\nSalario liquido: R$',salario_liquido)"
   ]
  },
  {
   "cell_type": "markdown",
   "metadata": {},
   "source": [
    "9 Faça um programa que leia 2 strings e informe o conteúdo delas seguido do seu\n",
    "comprimento. Informe também se as duas strings possuem o mesmo comprimento e\n",
    "são iguais ou diferentes no conteúdo.\n",
    "\n",
    "Exemplo:\n",
    "\n",
    "String 1: Brasil Hexa 2018\n",
    "\n",
    "String 2: Brasil! Hexa 2018!\n",
    "\n",
    "Tamanho de \"Brasil Hexa 2018\": 16 caracteres\n",
    "\n",
    "Tamanho de \"Brasil! Hexa 2018!\": 18 caracteres\n",
    "\n",
    "As duas strings são de tamanhos diferentes.\n",
    "\n",
    "As duas strings possuem conteúdo diferente."
   ]
  },
  {
   "cell_type": "code",
   "execution_count": null,
   "metadata": {},
   "outputs": [],
   "source": [
    "string1 = input(\"Digite a primeira string: \")\n",
    "tam1 = len(string1)\n",
    "string2 = input(\"Digite a segunda string: \")\n",
    "tam2 = len(string2)\n",
    "\n",
    "print('String 1:' ,string1, '\\nString 2:' ,string2, \n",
    "      '\\nTamanho de \"'+string1+'\" :' ,tam1, 'caracteres', \n",
    "      '\\nTamanho de \"'+string2+'\" :' ,tam2, 'caracteres')\n",
    "\n",
    "if tam1 == tam2:\n",
    "    print('As duas strings são de tamanhos iguais.')\n",
    "else:\n",
    "    print('As duas strings são de tamanhos diferentes.')\n",
    "    \n",
    "if string1 == string2:\n",
    "    print('As duas strings possuem o mesmo conteúdo.')\n",
    "else: \n",
    "    print('As duas strings possuem conteúdo diferente.')"
   ]
  },
  {
   "cell_type": "markdown",
   "metadata": {},
   "source": [
    "10 Faça um programa que permita ao usuário digitar o seu nome e em seguida\n",
    "mostre o nome do usuário de trás para frente utilizando somente letras maiúsculas.\n",
    "Dica: lembre−se que ao informar o nome o usuário pode digitar letras maiúsculas ou\n",
    "minúsculas. Observação: não use loops."
   ]
  },
  {
   "cell_type": "code",
   "execution_count": null,
   "metadata": {},
   "outputs": [],
   "source": [
    "nome = list(input('Digite o nome: '))\n",
    "nome.reverse()\n",
    "print((\"\".join(nome)).upper())"
   ]
  },
  {
   "cell_type": "markdown",
   "metadata": {},
   "source": [
    "11 Faça um programa que solicite a data de nascimento (dd/mm/aaaa) do usuário e\n",
    "imprima a data com o nome do mês por extenso.\n",
    "\n",
    "Data de Nascimento: 29/10/1973\n",
    "\n",
    "Você nasceu em 29 de Outubro de 1973.\n",
    "\n",
    "Obs.: Não use desvio condicional nem loops."
   ]
  },
  {
   "cell_type": "code",
   "execution_count": null,
   "metadata": {},
   "outputs": [],
   "source": [
    "meses = {\n",
    "    '01':'Janeiro',\n",
    "    '02':'Fevereiro',\n",
    "    '03':'Março',\n",
    "    '04':'Abril',\n",
    "    '05':'Maio',\n",
    "    '06':'Junho',\n",
    "    '07':'Julho',\n",
    "    '08':'Agosto',\n",
    "    '09':'Setembro',\n",
    "    '10':'Outubro',\n",
    "    '11':'Novembro',\n",
    "    '12':'Dezembro'\n",
    "}\n",
    "\n",
    "data = input('Digite a data de nascimento no formato dd/mm/aaaa: ')\n",
    "\n",
    "dia = data[0:2]\n",
    "mes = data[3:5]\n",
    "ano = data[6:10]\n",
    "\n",
    "print('Você nasceu em',dia,'de',meses[mes],'de', ano)"
   ]
  },
  {
   "cell_type": "markdown",
   "metadata": {},
   "source": [
    "12 Leet é uma forma de se escrever o alfabeto latino usando outros símbolos em\n",
    "lugar das letras, como números por exemplo. A própria palavra leet admite muitas\n",
    "variações, como l33t ou 1337. O uso do leet reflete uma subcultura relacionada ao\n",
    "mundo dos jogos de computador e internet, sendo muito usada para confundir os\n",
    "iniciantes e afirmar-se como parte de um grupo. Pesquise sobre as principais formas\n",
    "de traduzir as letras. Depois, faça um programa que peça uma texto e transforme-o\n",
    "para a grafia leet speak.\n",
    "Desafio: não use loops nem desvios condicionais."
   ]
  },
  {
   "cell_type": "code",
   "execution_count": 7,
   "metadata": {},
   "outputs": [],
   "source": [
    "leet = {\n",
    "'A':'4',\n",
    "'B':'8',\n",
    "'C':'(',\n",
    "'D':'|)',\n",
    "'E':'3',\n",
    "'F':'|=',\n",
    "'G':'6',\n",
    "'H':'|-|',\n",
    "'I':'!',\n",
    "'J':'_/',\n",
    "'K':'|<',\n",
    "'L':'1',\n",
    "\"M\":\"|\\/|\",\n",
    "'N':'|\\|',\n",
    "'O':'0',\n",
    "'P':'|>',\n",
    "'Q':'&',\n",
    "'R':'|2',\n",
    "'S':'5',\n",
    "'T':'7',\n",
    "'U':'|_|',\n",
    "'V':'\\/',\n",
    "'W':'\\/\\/',\n",
    "'X':'><',\n",
    "\"Y\":\"'/'\",\n",
    "'Z':'2'\n",
    "}\n",
    "\n",
    "texto = (input(\"Digite o texto: \")).upper()\n",
    "\n",
    "saida = ''\n",
    "\n",
    "for item in texto:\n",
    "    saida+=leet[item]\n",
    "    \n",
    "print(saida)"
   ]
  }
 ],
 "metadata": {
  "kernelspec": {
   "display_name": "Python 3",
   "language": "python",
   "name": "python3"
  },
  "language_info": {
   "codemirror_mode": {
    "name": "ipython",
    "version": 3
   },
   "file_extension": ".py",
   "mimetype": "text/x-python",
   "name": "python",
   "nbconvert_exporter": "python",
   "pygments_lexer": "ipython3",
   "version": "3.6.7"
  }
 },
 "nbformat": 4,
 "nbformat_minor": 2
}
