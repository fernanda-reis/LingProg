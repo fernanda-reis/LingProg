{
 "cells": [
  {
   "cell_type": "markdown",
   "metadata": {},
   "source": [
    "# Exercício 3\n",
    "    Fernanda Soares dos Reis RA: 81721367"
   ]
  },
  {
   "cell_type": "markdown",
   "metadata": {},
   "source": [
    "1. Faça um Programa que peça dois números e imprima o maior deles."
   ]
  },
  {
   "cell_type": "code",
   "execution_count": null,
   "metadata": {},
   "outputs": [],
   "source": [
    "num1 = int(input('Digite um numero: '))\n",
    "num2 = int(input('Digite outro numero: '))\n",
    "\n",
    "if num1 > num2:\n",
    "  print(f'O maior numero é {num1}')\n",
    "else:\n",
    "  print(f'O maior numero é {num2}')"
   ]
  },
  {
   "cell_type": "markdown",
   "metadata": {},
   "source": [
    "2. Faça um Programa que verifique se uma letra digitada é vogal ou consoante."
   ]
  },
  {
   "cell_type": "code",
   "execution_count": null,
   "metadata": {},
   "outputs": [],
   "source": [
    "vogais = ['a','e','i','o','u']\n",
    "\n",
    "letra = input('Digite uma letra: ').lower()\n",
    "\n",
    "if letra in vogais:\n",
    "  print(f'{letra} é vogal.')\n",
    "else:\n",
    "  print(f'{letra} é consoante.')"
   ]
  },
  {
   "cell_type": "markdown",
   "metadata": {},
   "source": [
    "3. Faça um programa para a leitura de duas notas parciais de um aluno. O programa deve calcular a média alcançada por aluno e apresentar:\n",
    "- A mensagem \"Aprovado\", se a média alcançada for maior ou igual a sete;\n",
    "- A mensagem \"Reprovado\", se a média for menor do que sete;\n",
    "- A mensagem \"Aprovado com Distinção\", se a média for igual a dez."
   ]
  },
  {
   "cell_type": "code",
   "execution_count": null,
   "metadata": {},
   "outputs": [],
   "source": [
    "nota1 = int(input('Digite a primeira nota: '))\n",
    "nota2 = int(input('Digite a segunda nota: '))\n",
    "media = (nota1+nota2)/2\n",
    "\n",
    "if media == 10:\n",
    "  print('Aprovado com Distinção.')\n",
    "elif media >= 7:\n",
    "  print('Aprovado')\n",
    "else:\n",
    "  print('Reprovado')"
   ]
  },
  {
   "cell_type": "markdown",
   "metadata": {},
   "source": [
    "4. Faça um Programa que leia três números e mostre-os em ordem decrescente."
   ]
  },
  {
   "cell_type": "code",
   "execution_count": null,
   "metadata": {},
   "outputs": [],
   "source": [
    "num1 = int(input('Digite o primeiro numero: '))\n",
    "num2 = int(input('Digite o segundo numero: '))\n",
    "num3 = int(input('Digite o terceiro numero: '))\n",
    "\n",
    "if num1 >= num2 and num1 >= num3:\n",
    "  maior = num1\n",
    "  if num2 >= num3:\n",
    "    meio = num2\n",
    "    menor = num3\n",
    "  else:\n",
    "    meio = num3\n",
    "    menor = num2\n",
    "elif num2 >= num1 and num2 >= num3:\n",
    "  maior = num2\n",
    "  if num1 >= num3:\n",
    "    meio = num1\n",
    "    menor = num3\n",
    "  else: \n",
    "    meio = num3\n",
    "    menor = num1\n",
    "else:\n",
    "  maior = num3\n",
    "  if num2 >= num1:\n",
    "    meio = num2\n",
    "    menor = num1\n",
    "  else:\n",
    "    meio = num1\n",
    "    menor = num2\n",
    "\n",
    "\n",
    "print(maior, meio, menor)"
   ]
  },
  {
   "cell_type": "markdown",
   "metadata": {},
   "source": [
    "5.As Organizações Tabajara resolveram dar um aumento de salário aos seus colaboradores e lhe contrataram para desenvolver o programa que calculará os reajustes.\n",
    "Faça um programa que recebe o salário de um colaborador e o reajuste segundo o seguinte critério, baseado no salário atual:\n",
    "\n",
    "-salários até 280,00 (incluindo) : aumento de 20%.\n",
    "\n",
    "-salários entre 280,00 e 700,00 : aumento de 15%\n",
    "\n",
    "-salários entre 700,00 e 1500,00 : aumento de 10%\n",
    "\n",
    "-salários de 1500,00 em diante : aumento de 5%\n",
    "\n",
    "Após o aumento ser realizado, informe na tela:\n",
    "\n",
    "-o salário antes do reajuste;\n",
    "\n",
    "-o percentual de aumento aplicado;\n",
    "\n",
    "-o valor do aumento;\n",
    "\n",
    "-o novo salário, após o aumento."
   ]
  },
  {
   "cell_type": "code",
   "execution_count": null,
   "metadata": {},
   "outputs": [],
   "source": [
    "salario = float(input('Digite o salario atual: '))\n",
    "\n",
    "if salario <= 280:\n",
    "  percent = 20\n",
    "elif salario > 280 and salario < 700:\n",
    "  percent = 15\n",
    "elif salario >= 700 and salario < 1500:\n",
    "  percent = 10\n",
    "else:\n",
    "  percent = 5\n",
    "  \n",
    "aumento = salario*(percent/100)\n",
    "\n",
    "print(f'Salário inicial: {salario}',\n",
    "      f'\\nPercentual de aumento aplicado: {percent}%', \n",
    "      f'\\nValor do aumento: {aumento}',\n",
    "      f'\\nNovo salário: {salario+aumento}')"
   ]
  },
  {
   "cell_type": "markdown",
   "metadata": {},
   "source": [
    "6. Faça um Programa que leia um número e exiba o dia correspondente da semana.\n",
    "(1-Domingo, 2- Segunda, etc.), se digitar outro valor deve aparecer valor inválido."
   ]
  },
  {
   "cell_type": "code",
   "execution_count": null,
   "metadata": {},
   "outputs": [],
   "source": [
    "num = int(input('Digite um numero: '))\n",
    "\n",
    "if num == 1:\n",
    "  dia= 'Domingo'\n",
    "elif num == 2:\n",
    "  dia= 'Segunda-Feira'\n",
    "elif num == 3:\n",
    "  dia= 'Terça-Feira'\n",
    "elif num == 4:\n",
    "  dia= 'Quarta-Feira'\n",
    "elif num == 5:\n",
    "  dia= 'Quinta-Feira'\n",
    "elif num == 6:\n",
    "  dia= 'Sexta-Feira'\n",
    "elif num == 7:\n",
    "  dia= 'Sábado'\n",
    "else:\n",
    "  dia= 'Valor inválido'\n",
    "\n",
    "print(dia)"
   ]
  },
  {
   "cell_type": "markdown",
   "metadata": {},
   "source": [
    "7. Faça um programa que lê as duas notas parciais obtidas por um aluno numa disciplina ao longo de um semestre, e calcule a sua média. A atribuição de conceitos obedece à tabela abaixo:\n",
    "Média de Aproveitamento Conceito\n",
    "Entre 9.0 e 10.0 A\n",
    "Entre 7.5 e 9.0 B\n",
    "Entre 6.0 e 7.5 C\n",
    "Entre 4.0 e 6.0 D\n",
    "Entre 4.0 e zero E\n",
    "O algoritmo deve mostrar na tela as notas, a média, o conceito correspondente e a mensagem “APROVADO” se o conceito for A, B ou C ou “REPROVADO” se o conceito for D ou E."
   ]
  },
  {
   "cell_type": "code",
   "execution_count": null,
   "metadata": {},
   "outputs": [],
   "source": [
    "\n",
    "n1 = float(input('Digite a primeira nota: '))\n",
    "n2 = float(input('Digite a segunda nota: '))\n",
    "media = (n1+n2)/2\n",
    "\n",
    "if media >= 9.0 and media <= 10:\n",
    "  conceito = 'A'\n",
    "  msg = 'APROVADO'\n",
    "elif media >= 7.5 and media < 9.0:\n",
    "  conceito = 'B'\n",
    "  msg = 'APROVADO'\n",
    "elif media >= 6.0 and media < 7.5:\n",
    "  conceito = 'C'\n",
    "  msg = 'APROVADO'\n",
    "elif media >= 4.0 and media < 6.0:\n",
    "  conceito = 'D'\n",
    "  msg = 'REPROVADO'\n",
    "elif media >= 0 and media < 4.0:\n",
    "  conceito = 'E'\n",
    "  msg = 'REPROVADO'\n",
    "\n",
    "print(f'NOTA 1 = {n1} NOTA 2 = {n2}',\n",
    "       f'\\nMÉDIA = {media}',\n",
    "       f'\\nCONCEITO: {conceito}',\n",
    "       f'\\n{msg}')"
   ]
  },
  {
   "cell_type": "markdown",
   "metadata": {},
   "source": [
    "8. Faça um Programa que peça os 3 lados de um triângulo. O programa deverá informar se os valores podem ser um triângulo. Indique, caso os lados formem um triângulo, se o mesmo é: equilátero, isósceles ou escaleno.\n",
    "Dicas:\n",
    "\n",
    "-Três lados formam um triângulo quando a soma de quaisquer dois lados for maior que o terceiro;\n",
    "\n",
    "-Triângulo Equilátero: três lados iguais;\n",
    "\n",
    "-Triângulo Isósceles: quaisquer dois lados iguais;\n",
    "\n",
    "-Triângulo Escaleno: três lados diferentes;"
   ]
  },
  {
   "cell_type": "code",
   "execution_count": null,
   "metadata": {},
   "outputs": [],
   "source": [
    "l1 = int(input('Primeiro lado: '))\n",
    "l2 = int(input('Segundo lado: '))\n",
    "l3 = int(input('Terceiro lado: '))\n",
    "\n",
    "if l1 + l2 > l3 or l1 + l3 > l2 or l2 + l3 > l1:\n",
    "  if l1 == l2 and l2 == l3 and l1 == l3:\n",
    "    print('Triângulo Equilátero')\n",
    "  elif l1 == l2 or l2 == l3 or l1 == l3:\n",
    "    print('Triângulo Isósceles')\n",
    "  else:\n",
    "    print('Triângulo Escaleno')\n",
    "else:\n",
    "  print('Não é um triângulo')"
   ]
  },
  {
   "cell_type": "markdown",
   "metadata": {},
   "source": [
    "9. Faça um programa que calcule as raízes de uma equação do segundo grau, na forma ax2 + bx + c. O programa deverá pedir os valores de a, b e c e fazer as consistências, informando ao usuário nas seguintes situações:\n",
    "\n",
    "-Se o usuário informar o valor de A igual a zero, a equação não é do segundo grau e o programa não deve fazer pedir os demais valores, sendo encerrado;\n",
    "\n",
    "-Se o delta calculado for negativo, a equação não possui raizes reais. Informe ao usuário e encerre o programa;\n",
    "\n",
    "-Se o delta calculado for igual a zero a equação possui apenas uma raiz real; informe-a ao usuário;\n",
    "\n",
    "-Se o delta for positivo, a equação possui duas raiz reais; informe-as ao usuário;"
   ]
  },
  {
   "cell_type": "code",
   "execution_count": null,
   "metadata": {},
   "outputs": [],
   "source": [
    "a = int(input('Informe o valor de A: '))\n",
    "\n",
    "if a==0:\n",
    "  print('Equação não é de 2°Grau.')\n",
    "else:\n",
    "  b = int(input('Informe o valor de B: '))\n",
    "  c = int(input('Informe o valor de C: '))\n",
    "  delta = (b*b)-(4*a*c)\n",
    "  if delta < 0:\n",
    "    print('A equação não possui raízes reais.')\n",
    "  elif delta == 0:\n",
    "    x = ((-b) + (delta ** 0.5))/2*a\n",
    "    print(f'A equação possui apenas uma raiz real: {x}')\n",
    "  else:\n",
    "    x1 = ((-b) + (delta ** 0.5))/2*a\n",
    "    x2 = ((-b) - (delta ** 0.5))/2*a\n",
    "    print(f'A equação possui duas raízes reais: {x1} e {x2}')"
   ]
  },
  {
   "cell_type": "markdown",
   "metadata": {},
   "source": [
    "10. Faça um Programa para um caixa eletrônico. O programa deverá perguntar ao usuário a valor do saque e depois informar quantas notas de cada valor serão fornecidas. As notas disponíveis serão as de 1, 5, 10, 50 e 100 reais. O valor mínimo é de 10 reais e o máximo de 600 reais. O programa não deve se preocupar com a quantidade de notas existentes na máquina.\n",
    "\n",
    "-Exemplo 1: Para sacar a quantia de 256 reais, o programa fornece duas notas de 100, uma nota de 50, uma nota de 5 e uma nota de 1;\n",
    "\n",
    "-Exemplo 2: Para sacar a quantia de 399 reais, o programa fornece três notas de 100, uma nota de 50, quatro notas de 10, uma nota de 5 e quatro notas de 1."
   ]
  },
  {
   "cell_type": "code",
   "execution_count": null,
   "metadata": {},
   "outputs": [],
   "source": [
    "val = int(input(\"Digite o valor: \"))\n",
    "\n",
    "if val >= 10 and val <= 600:\n",
    "    n100 = val // 100\n",
    "    resto = val % 100\n",
    "    print(f'{n100} notas de 100 reais;')\n",
    "    n50 = resto // 50\n",
    "    resto = resto % 50\n",
    "    print(f'{n50} notas de 50 reais;')\n",
    "    n10 = resto // 10\n",
    "    resto = resto % 10\n",
    "    print(f'{n10} notas de 10 reais;')\n",
    "    n5 = resto // 5\n",
    "    resto = resto % 5\n",
    "    print(f'{n5} notas de 5 reais;')\n",
    "    print(f'{resto} notas de 1 real.')\n",
    "else:\n",
    "    print(\"Valor inválido.\")"
   ]
  },
  {
   "cell_type": "markdown",
   "metadata": {},
   "source": [
    "11. Faça um programa que faça 5 perguntas para uma pessoa sobre um crime. As perguntas são:\n",
    "\n",
    "\"Telefonou para a vítima?\"\n",
    "\n",
    "\"Esteve no local do crime?\"\n",
    "\n",
    "\"Mora perto da vítima?\"\n",
    "\n",
    "\"Devia para a vítima?\"\n",
    "\n",
    "\"Já trabalhou com a vítima?\"\n",
    "\n",
    "O programa deve no final emitir uma classificação sobre a participação da pessoa no crime. Se a pessoa responder positivamente a 2 questões ela deve ser classificada como \"Suspeita\", entre 3 e 4 como \"Cúmplice\" e 5 como \"Assassino\". Caso contrário, ele será classificado como \"Inocente\"."
   ]
  },
  {
   "cell_type": "code",
   "execution_count": null,
   "metadata": {},
   "outputs": [],
   "source": [
    "q1 = input('Telefonou para a vítima? s/n: ')\n",
    "q2 = input('Esteve no local do crime? s/n: ')\n",
    "q3 = input('Mora perto da vítima? s/n: ')\n",
    "q4 = input('Devia para a vítima? s/n: ')\n",
    "q5 = input('Já trabalhou com a vítima? s/n: ')\n",
    "perguntas = [q1, q2, q3, q4, q5]\n",
    "num = 0\n",
    "\n",
    "for i in range(0, 5):\n",
    "    if perguntas[i] == 's':\n",
    "        num += 1\n",
    "print(num)\n",
    "\n",
    "if num==2:\n",
    "    result = 'Suspeita'\n",
    "elif num==3 or num==4:\n",
    "    result = 'Cúmplice'\n",
    "elif num==5:\n",
    "    result = 'Assassino'\n",
    "else: result = 'Inocente'\n",
    "        \n",
    "print(result)"
   ]
  },
  {
   "cell_type": "markdown",
   "metadata": {},
   "source": [
    "12. Uma fruteira está vendendo frutas com a seguinte tabela de preços:\n",
    "\n",
    "Até 5 Kg  Acima de 5 Kg\n",
    "\n",
    "Morango  2,50  por Kg  2,20 por Kg\n",
    "\n",
    "Maçã      1,80 por Kg  1,50 por Kg\n",
    "\n",
    "Se o cliente comprar mais de 8 Kg em frutas ou o valor total da compra ultrapassar R$ 25,00, receberá ainda um desconto de 10% sobre este total. Escreva um algoritmo para ler a quantidade (em Kg) de morangos e a quantidade (em Kg) de maças adquiridas e escreva o valor a ser pago pelo cliente."
   ]
  },
  {
   "cell_type": "code",
   "execution_count": null,
   "metadata": {},
   "outputs": [],
   "source": [
    "qtdMorango = float(input('Digite a quantidade em KG de morangos: '))\n",
    "qtdMaca = float(input('Digite a quantidade em KG de maçãs: '))\n",
    "\n",
    "\n",
    "if qtdMorango <= 5:\n",
    "    valMorango = 2.5 * qtdMorango\n",
    "else:\n",
    "    valMorango = 2.2 * qtdMorango\n",
    "\n",
    "if qtdMaca <= 5:\n",
    "    valMaca = 1.8 * qtdMaca\n",
    "else:\n",
    "    valMaca = 1.5 * qtdMaca\n",
    "\n",
    "total = valMaca + valMorango\n",
    "\n",
    "if qtdMorango + qtdMaca > 8 or total > 25:\n",
    "    total = total - (total * 0.1)\n",
    "\n",
    "print(f'Valor final: {total}')"
   ]
  },
  {
   "cell_type": "markdown",
   "metadata": {},
   "source": [
    "13. Faça um programa que peça uma nota, entre zero e dez. Mostre uma mensagem caso o valor seja inválido e continue pedindo até que o usuário informe um valor válido."
   ]
  },
  {
   "cell_type": "code",
   "execution_count": null,
   "metadata": {},
   "outputs": [],
   "source": [
    "while True:\n",
    "    entrada = float(input('Digite um valor entre 0 e 10: '))    \n",
    "    if entrada < 0 or entrada > 10:    \n",
    "        print('Valor inválido. \\nDigite um valor válido!')\n",
    "    else:\n",
    "        break"
   ]
  },
  {
   "cell_type": "markdown",
   "metadata": {},
   "source": [
    "13. Faça um programa que leia e valide as seguintes informações:\n",
    "Nome: maior que 3 caracteres;\n",
    "Idade: entre 0 e 150;\n",
    "Salário: maior que zero;\n",
    "Sexo: 'f' ou 'm';\n",
    "Estado Civil: 's', 'c', 'v', 'd';"
   ]
  },
  {
   "cell_type": "code",
   "execution_count": null,
   "metadata": {},
   "outputs": [],
   "source": [
    "nome = ''\n",
    "idade = -1\n",
    "salario = 0\n",
    "sexo = ''\n",
    "estadoCivil = ''\n",
    "\n",
    "while len(nome) <= 3:\n",
    "    nome = input('Digite um nome com mais de 3 caracteres: ')\n",
    "else:\n",
    "    while idade < 0 or idade > 150:\n",
    "        idade = int(input('Digite uma idade entre 0 e 150 anos: '))\n",
    "    else:\n",
    "        while salario <= 0:\n",
    "            salario = float(input('Digite um salário maior que 0: '))\n",
    "        else:\n",
    "            while estadoCivil != 's' and estadoCivil != 'c' and estadoCivil != 'v' and estadoCivil != 'd': \n",
    "                estadoCivil = input('Digite o estado civil (s/c/v/d): ')\n",
    "            else:\n",
    "                print(f'Nome: {nome} \\nIdade: {idade} \\nSalário: {salario} \\nEstado Civil: {estadoCivil}')"
   ]
  },
  {
   "cell_type": "markdown",
   "metadata": {},
   "source": [
    "14. Faça um programa que leia 5 números e informe o maior número."
   ]
  },
  {
   "cell_type": "code",
   "execution_count": null,
   "metadata": {},
   "outputs": [],
   "source": [
    "lista = []\n",
    "i = 0\n",
    "\n",
    "while i < 5:\n",
    "    num = int(input('Digite um número: '))\n",
    "    lista.append(num)\n",
    "    i += 1\n",
    "else:\n",
    "    print(max(lista))"
   ]
  },
  {
   "cell_type": "markdown",
   "metadata": {},
   "source": [
    "15. Faça um programa que leia 5 números e informe a soma e a média dos números."
   ]
  },
  {
   "cell_type": "code",
   "execution_count": null,
   "metadata": {},
   "outputs": [],
   "source": [
    "lista = []\n",
    "soma = 0\n",
    "i = 0\n",
    "\n",
    "while i < 5:\n",
    "    num = int(input('Digite um número: '))\n",
    "    lista.append(num)\n",
    "    i += 1\n",
    "else:\n",
    "    i = 0\n",
    "    while i < 5:\n",
    "        soma += lista[i]\n",
    "        i += 1\n",
    "    else:\n",
    "        print(f'Soma: {soma} \\nMédia: {soma/len(lista)}')"
   ]
  },
  {
   "cell_type": "markdown",
   "metadata": {},
   "source": [
    "16. Faça um programa que imprima na tela apenas os números ímpares entre 1 e 50."
   ]
  },
  {
   "cell_type": "code",
   "execution_count": null,
   "metadata": {},
   "outputs": [],
   "source": [
    "for num in range(0,50):\n",
    "    if num%2 != 0:\n",
    "        print(num)"
   ]
  },
  {
   "cell_type": "markdown",
   "metadata": {},
   "source": [
    "17. Desenvolva um gerador de tabuada, capaz de gerar a tabuada de qualquer número inteiro entre 1 a 10. O usuário deve informar de qual numero ele deseja ver a tabuada. A saída deve ser conforme o exemplo abaixo:\n",
    "\n",
    "Tabuada de 5:\n",
    "\n",
    "5 X 1 = 5\n",
    "\n",
    "5 X 2 = 10\n",
    "\n",
    "...\n",
    "\n",
    "5 X 10 = 50"
   ]
  },
  {
   "cell_type": "code",
   "execution_count": null,
   "metadata": {},
   "outputs": [],
   "source": [
    "num = int(input('Digite um número inteiro de 1 a 10: '))\n",
    "\n",
    "for i in range(1,11):\n",
    "  r = num*i\n",
    "  print(f'{num} X {i} = {r}\\n')"
   ]
  },
  {
   "cell_type": "markdown",
   "metadata": {},
   "source": [
    "18. A série de Fibonacci é formada pela seqüência 1,1,2,3,5,8,13,21,34,55,... Faça um programa capaz de gerar a série até o n-ésimo termo."
   ]
  },
  {
   "cell_type": "code",
   "execution_count": null,
   "metadata": {},
   "outputs": [],
   "source": [
    "num = int(input('Digite o n-ésimo termo: '))\n",
    "a = 0\n",
    "b = 1\n",
    "\n",
    "for i in range(0, num):\n",
    "    print(b)\n",
    "    aux = b\n",
    "    b = a + b\n",
    "    a = aux"
   ]
  },
  {
   "cell_type": "markdown",
   "metadata": {},
   "source": [
    "19. Faça um programa que calcule o fatorial de um número inteiro fornecido pelo usuário. Ex.: 5!=5.4.3.2.1=120"
   ]
  },
  {
   "cell_type": "code",
   "execution_count": null,
   "metadata": {},
   "outputs": [],
   "source": [
    "num = int(input('Digite um número: '))\n",
    "\n",
    "for i in range(1, num):\n",
    "    num = num*i\n",
    "print(num)\n"
   ]
  },
  {
   "cell_type": "markdown",
   "metadata": {},
   "source": [
    "20. O Sr. Manoel Joaquim possui uma grande loja de artigos de R$ 1,99, com cerca de 10 caixas. Para agilizar o cálculo de quanto cada cliente deve pagar ele desenvolveu um tabela que contém o número de itens que o cliente comprou e ao lado o valor da conta. Desta forma a atendente do caixa precisa apenas contar quantos itens o cliente está levando e olhar na tabela de preços. Você foi contratado para desenvolver o programa que monta esta tabela de preços, que conterá os preços de 1 até 50 produtos, conforme o exemplo abaixo:\n",
    "\n",
    "Lojas Quase Dois - Tabela de preços\n",
    "\n",
    "1 - R$ 1.99\n",
    "\n",
    "2 - R$ 3.98\n",
    "\n",
    "...\n",
    "\n",
    "50 - R$ 99.50"
   ]
  },
  {
   "cell_type": "code",
   "execution_count": null,
   "metadata": {},
   "outputs": [],
   "source": [
    "valor = 1.99\n",
    "\n",
    "print('Loja Quase Dois - Tabela de Preços')\n",
    "for i in range(1, 51):\n",
    "  print(f'{i} - R${valor:.2f}')\n",
    "  valor += 1.99"
   ]
  },
  {
   "cell_type": "markdown",
   "metadata": {},
   "source": [
    "21. O Sr. Manoel Joaquim acaba de adquirir uma panificadora e pretende implantar a metodologia da tabelinha, que já é um sucesso na sua loja de 1,99. Você foi contratado para desenvolver o programa que monta a tabela de preços de pães, de 1 até 50 pães, a partir do preço do pão informado pelo usuário, conforme o exemplo abaixo:\n",
    "\n",
    "Preço do pão: R$ 0.18\n",
    "\n",
    "Panificadora Pão de Ontem - Tabela de preços\n",
    "\n",
    "1 - R$ 0.18\n",
    "\n",
    "2 - R$ 0.36\n",
    "\n",
    "...\n",
    "\n",
    "50 - R$ 9.00"
   ]
  },
  {
   "cell_type": "code",
   "execution_count": null,
   "metadata": {},
   "outputs": [],
   "source": [
    "valor = float(input('Digite o preço do pão: '))\n",
    "valorb = valor\n",
    "\n",
    "print(f'Preço do pão: R${valor} \\nPanificadora Pão de Ontem')\n",
    "for i in range(1, 51):\n",
    "  print(f'{i} - R${valor:.2f}')\n",
    "  valor += valorb"
   ]
  },
  {
   "cell_type": "markdown",
   "metadata": {},
   "source": [
    "22. O Sr. Manoel Joaquim expandiu seus negócios para além dos negócios de 1,99 e agora possui uma loja de conveniências. Faça um programa que implemente uma caixa registradora rudimentar. O programa deverá receber um número desconhecido de valores referentes aos preços das mercadorias. Um valor zero deve ser informado pelo operador para indicar o final da compra. O programa deve então mostrar o total da compra e perguntar o valor em dinheiro que o cliente forneceu, para então calcular e mostrar o valor do troco. Após esta operação, o programa deverá voltar ao ponto inicial, para registrar a próxima compra. A saída deve ser conforme o exemplo abaixo:\n",
    "\n",
    "Lojas Tabajara\n",
    "\n",
    "Produto 1: R$ 2.20\n",
    "\n",
    "Produto 2: R$ 5.80\n",
    "\n",
    "Produto 3: R$ 0\n",
    "\n",
    "Total: R$ 9.00\n",
    "\n",
    "Dinheiro: R$ 20.00\n",
    "\n",
    "Troco: R$ 11.00\n",
    "\n",
    "..."
   ]
  },
  {
   "cell_type": "code",
   "execution_count": null,
   "metadata": {},
   "outputs": [],
   "source": [
    "print('Lojas Tabajara')\n",
    "i = 1\n",
    "total = 0.0\n",
    "\n",
    "\n",
    "while True:\n",
    "  valor = float(input(f'\\nProduto {i}: R$'))\n",
    "  total += valor \n",
    "  i += 1\n",
    "\n",
    "  if valor == 0:\n",
    "    print(f'\\nTotal: R${total}')\n",
    "    dinheiro = float(input('\\nDinheiro: R$'))\n",
    "    troco = dinheiro - total\n",
    "    print(f'\\nTroco: R${troco}\\n...')\n",
    "    i = 1\n",
    "    total = 0.0"
   ]
  },
  {
   "cell_type": "markdown",
   "metadata": {},
   "source": [
    "23.  Foi feita uma estatística em cinco cidades brasileiras para coletar dados sobre acidentes de trânsito. Foram obtidos os seguintes dados:\n",
    "\n",
    "-Código da cidade;\n",
    "\n",
    "-Número de veículos de passeio (em 1999);\n",
    "\n",
    "-Número de acidentes de trânsito com vítimas (em 1999). Deseja-se saber:\n",
    "\n",
    "-Qual o maior e menor índice de acidentes de transito e a que cidade pertence;\n",
    "\n",
    "-Qual a média de veículos nas cinco cidades juntas;\n",
    "\n",
    "-Qual a média de acidentes de trânsito nas cidades com menos de 2.000 veículos de passeio."
   ]
  },
  {
   "cell_type": "code",
   "execution_count": null,
   "metadata": {},
   "outputs": [],
   "source": [
    "cidades = {\n",
    "    \"cidade0\": [856, 2],\n",
    "    \"cidade1\": [1000, 80],\n",
    "    \"cidade2\": [921, 7],\n",
    "    \"cidade3\": [10, 8],\n",
    "    \"cidade4\": [342, 42]\n",
    "}\n",
    "\n",
    "menorIndice = [cidades[\"cidade0\"][0], cidades[\"cidade0\"][1]]\n",
    "maiorIndice = [cidades[\"cidade0\"][0], cidades[\"cidade0\"][1]]\n",
    "somaVeiculos = 0\n",
    "somaAcidentes = 0\n",
    "i = 0\n",
    "\n",
    "for cid in cidades:\n",
    "    somaVeiculos += cidades[cid][0]\n",
    "    if cidades[cid][0] < 2000:\n",
    "        somaAcidentes += cidades[cid][1]\n",
    "        i += 1\n",
    "    if cidades[cid][1] > maiorIndice[0]:\n",
    "        maiorIndice[0] = cidades[cid][1]\n",
    "        maiorIndice[1] = cid\n",
    "    if cidades[cid][1] < menorIndice[0]:\n",
    "        menorIndice[0] = cidades[cid][1]\n",
    "        menorIndice[1] = cid\n",
    "        \n",
    "    \n",
    "mediaVeiculos = somaVeiculos / len(cidades.keys())\n",
    "mediaAcidentes = somaAcidentes / i\n",
    "\n",
    "print(\"Maior índice de acidentes: \", maiorIndice)\n",
    "print(\"Menor índice de acidentes: \", menorIndice)\n",
    "print(\"Média de veículos nas cinco cidades juntas: \", mediaVeiculos)\n",
    "print(\"Média de acidentes de trânsito nas cidades com menos de 2.000 veículos de passeio: \", mediaAcidentes)"
   ]
  },
  {
   "cell_type": "markdown",
   "metadata": {},
   "source": [
    "24.Faça um programa que receba o valor de uma dívida e mostre uma tabela com os seguintes dados: valor da dívida, valor dos juros, quantidade de parcelas e valor da parcela.\n",
    "Os juros e a quantidade de parcelas seguem a tabela abaixo:\n",
    "\n",
    "Quantidade de Parcelas % de Juros sobre o valor inicial da dívida\n",
    "\n",
    "1 0\n",
    "\n",
    "3 10\n",
    "\n",
    "6 15\n",
    "\n",
    "9 20\n",
    "\n",
    "12 25\n",
    "\n",
    "Exemplo de saída do programa:\n",
    "\n",
    "Valor da Dívida Valor dos Juros Quantidade de Parcelas Valor da Parcela\n",
    "\n",
    "RS 1.000,00 0 1 RS 1.000,00\n",
    "\n",
    "RS 1.100,00 100 3 RS 366,00\n",
    "\n",
    "RS 1.150,00 150 6 RS 191,67"
   ]
  },
  {
   "cell_type": "code",
   "execution_count": null,
   "metadata": {},
   "outputs": [],
   "source": [
    "divida1 = float(input('Digite o valor da dívida: '))\n",
    "\n",
    "print('Dívida \\t Valor dos Juros \\t Quantidade de Parcelas \\t Valor da Parcela')\n",
    "\n",
    "for i in range(0, 5):\n",
    "    if i == 0:\n",
    "        juros = 0\n",
    "    elif i == 1:\n",
    "        juros = 10\n",
    "    else:\n",
    "        juros += 5\n",
    "\n",
    "    jurosv = divida1*(juros/100)\n",
    "    divida = divida1+jurosv\n",
    "\n",
    "    if i == 0:\n",
    "        parcelas = 1\n",
    "    else:\n",
    "        parcelas = i*3\n",
    "    if parcelas != 0:\n",
    "        parcelav = divida/parcelas\n",
    "    else:\n",
    "        parcelav = divida\n",
    "\n",
    "    print(f'R$ {divida} \\t {jurosv} \\t\\t\\t\\t\\t {parcelas} \\t\\t\\t\\t\\t\\t R$ %.2f'%(parcelav))"
   ]
  },
  {
   "cell_type": "markdown",
   "metadata": {},
   "source": [
    "25. Faça um programa que mostre os n termos da Série a seguir:\n",
    "S = 1/1 + 2/3 + 3/5 + 4/7 + 5/9 + ... + n/m.\n",
    "Imprima no final a soma da série."
   ]
  },
  {
   "cell_type": "code",
   "execution_count": null,
   "metadata": {},
   "outputs": [],
   "source": [
    "n = int(input('Digite a quantidade de termos: '))\n",
    "S = ''\n",
    "b = 1\n",
    "soma = 1/1\n",
    "\n",
    "\n",
    "for a in range(1,n):\n",
    "  S += str(a) + '/' + str(b)\n",
    "\n",
    "  a += 1\n",
    "  b += 2\n",
    "  soma += a/b\n",
    "\n",
    "  if a != n:\n",
    "    S += ' + '\n",
    "\n",
    "print(S + f'\\nSoma: {soma}')"
   ]
  }
 ],
 "metadata": {
  "kernelspec": {
   "display_name": "Python 3",
   "language": "python",
   "name": "python3"
  },
  "language_info": {
   "codemirror_mode": {
    "name": "ipython",
    "version": 3
   },
   "file_extension": ".py",
   "mimetype": "text/x-python",
   "name": "python",
   "nbconvert_exporter": "python",
   "pygments_lexer": "ipython3",
   "version": "3.6.10"
  }
 },
 "nbformat": 4,
 "nbformat_minor": 4
}
